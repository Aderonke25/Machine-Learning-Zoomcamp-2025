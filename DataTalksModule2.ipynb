{
  "nbformat": 4,
  "nbformat_minor": 0,
  "metadata": {
    "colab": {
      "provenance": [],
      "authorship_tag": "ABX9TyMFl0mHN4eUXOfWL05ITBOc",
      "include_colab_link": true
    },
    "kernelspec": {
      "name": "python3",
      "display_name": "Python 3"
    },
    "language_info": {
      "name": "python"
    }
  },
  "cells": [
    {
      "cell_type": "markdown",
      "metadata": {
        "id": "view-in-github",
        "colab_type": "text"
      },
      "source": [
        "<a href=\"https://colab.research.google.com/github/Aderonke25/Machine-Learning-Zoomcamp-2025/blob/main/DataTalksModule2.ipynb\" target=\"_parent\"><img src=\"https://colab.research.google.com/assets/colab-badge.svg\" alt=\"Open In Colab\"/></a>"
      ]
    },
    {
      "cell_type": "code",
      "execution_count": 1,
      "metadata": {
        "id": "X8LAYd2pTHOy"
      },
      "outputs": [],
      "source": [
        "import numpy as np\n",
        "import pandas as pd\n",
        "import matplotlib.pyplot as plt\n",
        "import seaborn as sns\n",
        "from sklearn.model_selection import train_test_split\n",
        "from sklearn.linear_model import LinearRegression\n",
        "from sklearn.metrics import mean_squared_error\n",
        "from math import sqrt\n",
        "from sklearn.linear_model import Ridge\n"
      ]
    },
    {
      "cell_type": "code",
      "source": [
        "url  = \"https://raw.githubusercontent.com/alexeygrigorev/datasets/master/car_fuel_efficiency.csv\""
      ],
      "metadata": {
        "id": "v0KiyOf7V-W-"
      },
      "execution_count": 2,
      "outputs": []
    },
    {
      "cell_type": "code",
      "source": [
        "df = pd.read_csv(url)"
      ],
      "metadata": {
        "id": "tFqvaUJvWZox"
      },
      "execution_count": 3,
      "outputs": []
    },
    {
      "cell_type": "code",
      "source": [
        "df.head()"
      ],
      "metadata": {
        "colab": {
          "base_uri": "https://localhost:8080/",
          "height": 206
        },
        "id": "d1CKgNpLWfGM",
        "outputId": "3aef49b5-003d-4345-e9f0-c5e526db0f4c"
      },
      "execution_count": 4,
      "outputs": [
        {
          "output_type": "execute_result",
          "data": {
            "text/plain": [
              "   engine_displacement  num_cylinders  horsepower  vehicle_weight  \\\n",
              "0                  170            3.0       159.0     3413.433759   \n",
              "1                  130            5.0        97.0     3149.664934   \n",
              "2                  170            NaN        78.0     3079.038997   \n",
              "3                  220            4.0         NaN     2542.392402   \n",
              "4                  210            1.0       140.0     3460.870990   \n",
              "\n",
              "   acceleration  model_year  origin fuel_type         drivetrain  num_doors  \\\n",
              "0          17.7        2003  Europe  Gasoline    All-wheel drive        0.0   \n",
              "1          17.8        2007     USA  Gasoline  Front-wheel drive        0.0   \n",
              "2          15.1        2018  Europe  Gasoline  Front-wheel drive        0.0   \n",
              "3          20.2        2009     USA    Diesel    All-wheel drive        2.0   \n",
              "4          14.4        2009  Europe  Gasoline    All-wheel drive        2.0   \n",
              "\n",
              "   fuel_efficiency_mpg  \n",
              "0            13.231729  \n",
              "1            13.688217  \n",
              "2            14.246341  \n",
              "3            16.912736  \n",
              "4            12.488369  "
            ],
            "text/html": [
              "\n",
              "  <div id=\"df-e65ad65b-9b06-4c35-b2d7-0cba74b76b62\" class=\"colab-df-container\">\n",
              "    <div>\n",
              "<style scoped>\n",
              "    .dataframe tbody tr th:only-of-type {\n",
              "        vertical-align: middle;\n",
              "    }\n",
              "\n",
              "    .dataframe tbody tr th {\n",
              "        vertical-align: top;\n",
              "    }\n",
              "\n",
              "    .dataframe thead th {\n",
              "        text-align: right;\n",
              "    }\n",
              "</style>\n",
              "<table border=\"1\" class=\"dataframe\">\n",
              "  <thead>\n",
              "    <tr style=\"text-align: right;\">\n",
              "      <th></th>\n",
              "      <th>engine_displacement</th>\n",
              "      <th>num_cylinders</th>\n",
              "      <th>horsepower</th>\n",
              "      <th>vehicle_weight</th>\n",
              "      <th>acceleration</th>\n",
              "      <th>model_year</th>\n",
              "      <th>origin</th>\n",
              "      <th>fuel_type</th>\n",
              "      <th>drivetrain</th>\n",
              "      <th>num_doors</th>\n",
              "      <th>fuel_efficiency_mpg</th>\n",
              "    </tr>\n",
              "  </thead>\n",
              "  <tbody>\n",
              "    <tr>\n",
              "      <th>0</th>\n",
              "      <td>170</td>\n",
              "      <td>3.0</td>\n",
              "      <td>159.0</td>\n",
              "      <td>3413.433759</td>\n",
              "      <td>17.7</td>\n",
              "      <td>2003</td>\n",
              "      <td>Europe</td>\n",
              "      <td>Gasoline</td>\n",
              "      <td>All-wheel drive</td>\n",
              "      <td>0.0</td>\n",
              "      <td>13.231729</td>\n",
              "    </tr>\n",
              "    <tr>\n",
              "      <th>1</th>\n",
              "      <td>130</td>\n",
              "      <td>5.0</td>\n",
              "      <td>97.0</td>\n",
              "      <td>3149.664934</td>\n",
              "      <td>17.8</td>\n",
              "      <td>2007</td>\n",
              "      <td>USA</td>\n",
              "      <td>Gasoline</td>\n",
              "      <td>Front-wheel drive</td>\n",
              "      <td>0.0</td>\n",
              "      <td>13.688217</td>\n",
              "    </tr>\n",
              "    <tr>\n",
              "      <th>2</th>\n",
              "      <td>170</td>\n",
              "      <td>NaN</td>\n",
              "      <td>78.0</td>\n",
              "      <td>3079.038997</td>\n",
              "      <td>15.1</td>\n",
              "      <td>2018</td>\n",
              "      <td>Europe</td>\n",
              "      <td>Gasoline</td>\n",
              "      <td>Front-wheel drive</td>\n",
              "      <td>0.0</td>\n",
              "      <td>14.246341</td>\n",
              "    </tr>\n",
              "    <tr>\n",
              "      <th>3</th>\n",
              "      <td>220</td>\n",
              "      <td>4.0</td>\n",
              "      <td>NaN</td>\n",
              "      <td>2542.392402</td>\n",
              "      <td>20.2</td>\n",
              "      <td>2009</td>\n",
              "      <td>USA</td>\n",
              "      <td>Diesel</td>\n",
              "      <td>All-wheel drive</td>\n",
              "      <td>2.0</td>\n",
              "      <td>16.912736</td>\n",
              "    </tr>\n",
              "    <tr>\n",
              "      <th>4</th>\n",
              "      <td>210</td>\n",
              "      <td>1.0</td>\n",
              "      <td>140.0</td>\n",
              "      <td>3460.870990</td>\n",
              "      <td>14.4</td>\n",
              "      <td>2009</td>\n",
              "      <td>Europe</td>\n",
              "      <td>Gasoline</td>\n",
              "      <td>All-wheel drive</td>\n",
              "      <td>2.0</td>\n",
              "      <td>12.488369</td>\n",
              "    </tr>\n",
              "  </tbody>\n",
              "</table>\n",
              "</div>\n",
              "    <div class=\"colab-df-buttons\">\n",
              "\n",
              "  <div class=\"colab-df-container\">\n",
              "    <button class=\"colab-df-convert\" onclick=\"convertToInteractive('df-e65ad65b-9b06-4c35-b2d7-0cba74b76b62')\"\n",
              "            title=\"Convert this dataframe to an interactive table.\"\n",
              "            style=\"display:none;\">\n",
              "\n",
              "  <svg xmlns=\"http://www.w3.org/2000/svg\" height=\"24px\" viewBox=\"0 -960 960 960\">\n",
              "    <path d=\"M120-120v-720h720v720H120Zm60-500h600v-160H180v160Zm220 220h160v-160H400v160Zm0 220h160v-160H400v160ZM180-400h160v-160H180v160Zm440 0h160v-160H620v160ZM180-180h160v-160H180v160Zm440 0h160v-160H620v160Z\"/>\n",
              "  </svg>\n",
              "    </button>\n",
              "\n",
              "  <style>\n",
              "    .colab-df-container {\n",
              "      display:flex;\n",
              "      gap: 12px;\n",
              "    }\n",
              "\n",
              "    .colab-df-convert {\n",
              "      background-color: #E8F0FE;\n",
              "      border: none;\n",
              "      border-radius: 50%;\n",
              "      cursor: pointer;\n",
              "      display: none;\n",
              "      fill: #1967D2;\n",
              "      height: 32px;\n",
              "      padding: 0 0 0 0;\n",
              "      width: 32px;\n",
              "    }\n",
              "\n",
              "    .colab-df-convert:hover {\n",
              "      background-color: #E2EBFA;\n",
              "      box-shadow: 0px 1px 2px rgba(60, 64, 67, 0.3), 0px 1px 3px 1px rgba(60, 64, 67, 0.15);\n",
              "      fill: #174EA6;\n",
              "    }\n",
              "\n",
              "    .colab-df-buttons div {\n",
              "      margin-bottom: 4px;\n",
              "    }\n",
              "\n",
              "    [theme=dark] .colab-df-convert {\n",
              "      background-color: #3B4455;\n",
              "      fill: #D2E3FC;\n",
              "    }\n",
              "\n",
              "    [theme=dark] .colab-df-convert:hover {\n",
              "      background-color: #434B5C;\n",
              "      box-shadow: 0px 1px 3px 1px rgba(0, 0, 0, 0.15);\n",
              "      filter: drop-shadow(0px 1px 2px rgba(0, 0, 0, 0.3));\n",
              "      fill: #FFFFFF;\n",
              "    }\n",
              "  </style>\n",
              "\n",
              "    <script>\n",
              "      const buttonEl =\n",
              "        document.querySelector('#df-e65ad65b-9b06-4c35-b2d7-0cba74b76b62 button.colab-df-convert');\n",
              "      buttonEl.style.display =\n",
              "        google.colab.kernel.accessAllowed ? 'block' : 'none';\n",
              "\n",
              "      async function convertToInteractive(key) {\n",
              "        const element = document.querySelector('#df-e65ad65b-9b06-4c35-b2d7-0cba74b76b62');\n",
              "        const dataTable =\n",
              "          await google.colab.kernel.invokeFunction('convertToInteractive',\n",
              "                                                    [key], {});\n",
              "        if (!dataTable) return;\n",
              "\n",
              "        const docLinkHtml = 'Like what you see? Visit the ' +\n",
              "          '<a target=\"_blank\" href=https://colab.research.google.com/notebooks/data_table.ipynb>data table notebook</a>'\n",
              "          + ' to learn more about interactive tables.';\n",
              "        element.innerHTML = '';\n",
              "        dataTable['output_type'] = 'display_data';\n",
              "        await google.colab.output.renderOutput(dataTable, element);\n",
              "        const docLink = document.createElement('div');\n",
              "        docLink.innerHTML = docLinkHtml;\n",
              "        element.appendChild(docLink);\n",
              "      }\n",
              "    </script>\n",
              "  </div>\n",
              "\n",
              "\n",
              "    <div id=\"df-f833a3d7-6342-4a15-9f51-2aeea944174d\">\n",
              "      <button class=\"colab-df-quickchart\" onclick=\"quickchart('df-f833a3d7-6342-4a15-9f51-2aeea944174d')\"\n",
              "                title=\"Suggest charts\"\n",
              "                style=\"display:none;\">\n",
              "\n",
              "<svg xmlns=\"http://www.w3.org/2000/svg\" height=\"24px\"viewBox=\"0 0 24 24\"\n",
              "     width=\"24px\">\n",
              "    <g>\n",
              "        <path d=\"M19 3H5c-1.1 0-2 .9-2 2v14c0 1.1.9 2 2 2h14c1.1 0 2-.9 2-2V5c0-1.1-.9-2-2-2zM9 17H7v-7h2v7zm4 0h-2V7h2v10zm4 0h-2v-4h2v4z\"/>\n",
              "    </g>\n",
              "</svg>\n",
              "      </button>\n",
              "\n",
              "<style>\n",
              "  .colab-df-quickchart {\n",
              "      --bg-color: #E8F0FE;\n",
              "      --fill-color: #1967D2;\n",
              "      --hover-bg-color: #E2EBFA;\n",
              "      --hover-fill-color: #174EA6;\n",
              "      --disabled-fill-color: #AAA;\n",
              "      --disabled-bg-color: #DDD;\n",
              "  }\n",
              "\n",
              "  [theme=dark] .colab-df-quickchart {\n",
              "      --bg-color: #3B4455;\n",
              "      --fill-color: #D2E3FC;\n",
              "      --hover-bg-color: #434B5C;\n",
              "      --hover-fill-color: #FFFFFF;\n",
              "      --disabled-bg-color: #3B4455;\n",
              "      --disabled-fill-color: #666;\n",
              "  }\n",
              "\n",
              "  .colab-df-quickchart {\n",
              "    background-color: var(--bg-color);\n",
              "    border: none;\n",
              "    border-radius: 50%;\n",
              "    cursor: pointer;\n",
              "    display: none;\n",
              "    fill: var(--fill-color);\n",
              "    height: 32px;\n",
              "    padding: 0;\n",
              "    width: 32px;\n",
              "  }\n",
              "\n",
              "  .colab-df-quickchart:hover {\n",
              "    background-color: var(--hover-bg-color);\n",
              "    box-shadow: 0 1px 2px rgba(60, 64, 67, 0.3), 0 1px 3px 1px rgba(60, 64, 67, 0.15);\n",
              "    fill: var(--button-hover-fill-color);\n",
              "  }\n",
              "\n",
              "  .colab-df-quickchart-complete:disabled,\n",
              "  .colab-df-quickchart-complete:disabled:hover {\n",
              "    background-color: var(--disabled-bg-color);\n",
              "    fill: var(--disabled-fill-color);\n",
              "    box-shadow: none;\n",
              "  }\n",
              "\n",
              "  .colab-df-spinner {\n",
              "    border: 2px solid var(--fill-color);\n",
              "    border-color: transparent;\n",
              "    border-bottom-color: var(--fill-color);\n",
              "    animation:\n",
              "      spin 1s steps(1) infinite;\n",
              "  }\n",
              "\n",
              "  @keyframes spin {\n",
              "    0% {\n",
              "      border-color: transparent;\n",
              "      border-bottom-color: var(--fill-color);\n",
              "      border-left-color: var(--fill-color);\n",
              "    }\n",
              "    20% {\n",
              "      border-color: transparent;\n",
              "      border-left-color: var(--fill-color);\n",
              "      border-top-color: var(--fill-color);\n",
              "    }\n",
              "    30% {\n",
              "      border-color: transparent;\n",
              "      border-left-color: var(--fill-color);\n",
              "      border-top-color: var(--fill-color);\n",
              "      border-right-color: var(--fill-color);\n",
              "    }\n",
              "    40% {\n",
              "      border-color: transparent;\n",
              "      border-right-color: var(--fill-color);\n",
              "      border-top-color: var(--fill-color);\n",
              "    }\n",
              "    60% {\n",
              "      border-color: transparent;\n",
              "      border-right-color: var(--fill-color);\n",
              "    }\n",
              "    80% {\n",
              "      border-color: transparent;\n",
              "      border-right-color: var(--fill-color);\n",
              "      border-bottom-color: var(--fill-color);\n",
              "    }\n",
              "    90% {\n",
              "      border-color: transparent;\n",
              "      border-bottom-color: var(--fill-color);\n",
              "    }\n",
              "  }\n",
              "</style>\n",
              "\n",
              "      <script>\n",
              "        async function quickchart(key) {\n",
              "          const quickchartButtonEl =\n",
              "            document.querySelector('#' + key + ' button');\n",
              "          quickchartButtonEl.disabled = true;  // To prevent multiple clicks.\n",
              "          quickchartButtonEl.classList.add('colab-df-spinner');\n",
              "          try {\n",
              "            const charts = await google.colab.kernel.invokeFunction(\n",
              "                'suggestCharts', [key], {});\n",
              "          } catch (error) {\n",
              "            console.error('Error during call to suggestCharts:', error);\n",
              "          }\n",
              "          quickchartButtonEl.classList.remove('colab-df-spinner');\n",
              "          quickchartButtonEl.classList.add('colab-df-quickchart-complete');\n",
              "        }\n",
              "        (() => {\n",
              "          let quickchartButtonEl =\n",
              "            document.querySelector('#df-f833a3d7-6342-4a15-9f51-2aeea944174d button');\n",
              "          quickchartButtonEl.style.display =\n",
              "            google.colab.kernel.accessAllowed ? 'block' : 'none';\n",
              "        })();\n",
              "      </script>\n",
              "    </div>\n",
              "\n",
              "    </div>\n",
              "  </div>\n"
            ],
            "application/vnd.google.colaboratory.intrinsic+json": {
              "type": "dataframe",
              "variable_name": "df",
              "summary": "{\n  \"name\": \"df\",\n  \"rows\": 9704,\n  \"fields\": [\n    {\n      \"column\": \"engine_displacement\",\n      \"properties\": {\n        \"dtype\": \"number\",\n        \"std\": 49,\n        \"min\": 10,\n        \"max\": 380,\n        \"num_unique_values\": 36,\n        \"samples\": [\n          30,\n          260,\n          90\n        ],\n        \"semantic_type\": \"\",\n        \"description\": \"\"\n      }\n    },\n    {\n      \"column\": \"num_cylinders\",\n      \"properties\": {\n        \"dtype\": \"number\",\n        \"std\": 1.9993225843926064,\n        \"min\": 0.0,\n        \"max\": 13.0,\n        \"num_unique_values\": 14,\n        \"samples\": [\n          9.0,\n          10.0,\n          3.0\n        ],\n        \"semantic_type\": \"\",\n        \"description\": \"\"\n      }\n    },\n    {\n      \"column\": \"horsepower\",\n      \"properties\": {\n        \"dtype\": \"number\",\n        \"std\": 29.879555200339446,\n        \"min\": 37.0,\n        \"max\": 271.0,\n        \"num_unique_values\": 192,\n        \"samples\": [\n          128.0,\n          82.0,\n          167.0\n        ],\n        \"semantic_type\": \"\",\n        \"description\": \"\"\n      }\n    },\n    {\n      \"column\": \"vehicle_weight\",\n      \"properties\": {\n        \"dtype\": \"number\",\n        \"std\": 497.8948600311838,\n        \"min\": 952.6817606436496,\n        \"max\": 4739.077089392099,\n        \"num_unique_values\": 9704,\n        \"samples\": [\n          2535.8875912388694,\n          2741.1704843893167,\n          2471.8802372627765\n        ],\n        \"semantic_type\": \"\",\n        \"description\": \"\"\n      }\n    },\n    {\n      \"column\": \"acceleration\",\n      \"properties\": {\n        \"dtype\": \"number\",\n        \"std\": 2.510339293937879,\n        \"min\": 6.0,\n        \"max\": 24.3,\n        \"num_unique_values\": 162,\n        \"samples\": [\n          7.3,\n          20.3,\n          19.8\n        ],\n        \"semantic_type\": \"\",\n        \"description\": \"\"\n      }\n    },\n    {\n      \"column\": \"model_year\",\n      \"properties\": {\n        \"dtype\": \"number\",\n        \"std\": 6,\n        \"min\": 2000,\n        \"max\": 2023,\n        \"num_unique_values\": 24,\n        \"samples\": [\n          2005,\n          2002,\n          2003\n        ],\n        \"semantic_type\": \"\",\n        \"description\": \"\"\n      }\n    },\n    {\n      \"column\": \"origin\",\n      \"properties\": {\n        \"dtype\": \"category\",\n        \"num_unique_values\": 3,\n        \"samples\": [\n          \"Europe\",\n          \"USA\",\n          \"Asia\"\n        ],\n        \"semantic_type\": \"\",\n        \"description\": \"\"\n      }\n    },\n    {\n      \"column\": \"fuel_type\",\n      \"properties\": {\n        \"dtype\": \"category\",\n        \"num_unique_values\": 2,\n        \"samples\": [\n          \"Diesel\",\n          \"Gasoline\"\n        ],\n        \"semantic_type\": \"\",\n        \"description\": \"\"\n      }\n    },\n    {\n      \"column\": \"drivetrain\",\n      \"properties\": {\n        \"dtype\": \"category\",\n        \"num_unique_values\": 2,\n        \"samples\": [\n          \"Front-wheel drive\",\n          \"All-wheel drive\"\n        ],\n        \"semantic_type\": \"\",\n        \"description\": \"\"\n      }\n    },\n    {\n      \"column\": \"num_doors\",\n      \"properties\": {\n        \"dtype\": \"number\",\n        \"std\": 1.048162111427726,\n        \"min\": -4.0,\n        \"max\": 4.0,\n        \"num_unique_values\": 9,\n        \"samples\": [\n          -4.0,\n          2.0\n        ],\n        \"semantic_type\": \"\",\n        \"description\": \"\"\n      }\n    },\n    {\n      \"column\": \"fuel_efficiency_mpg\",\n      \"properties\": {\n        \"dtype\": \"number\",\n        \"std\": 2.5564677028974288,\n        \"min\": 6.200970533392815,\n        \"max\": 25.96722204888372,\n        \"num_unique_values\": 9704,\n        \"samples\": [\n          16.642943419221385,\n          16.298377150953442\n        ],\n        \"semantic_type\": \"\",\n        \"description\": \"\"\n      }\n    }\n  ]\n}"
            }
          },
          "metadata": {},
          "execution_count": 4
        }
      ]
    },
    {
      "cell_type": "markdown",
      "source": [
        "The goal of this project is to create a regression model for predicting the car fuel efficiency.\n"
      ],
      "metadata": {
        "id": "sHGztrvDW3dU"
      }
    },
    {
      "cell_type": "code",
      "source": [
        "# Select only the required columns\n",
        "selected_columns = ['engine_displacement', 'horsepower', 'vehicle_weight', 'model_year', 'fuel_efficiency_mpg']\n",
        "df_selected = df[selected_columns]"
      ],
      "metadata": {
        "id": "1kVXV1CfWnbT"
      },
      "execution_count": 5,
      "outputs": []
    },
    {
      "cell_type": "code",
      "source": [
        "print(df_selected.head())"
      ],
      "metadata": {
        "colab": {
          "base_uri": "https://localhost:8080/"
        },
        "id": "pF6HnSKQXw_9",
        "outputId": "509953d1-c987-410d-aa6d-7617133fba02"
      },
      "execution_count": 6,
      "outputs": [
        {
          "output_type": "stream",
          "name": "stdout",
          "text": [
            "   engine_displacement  horsepower  vehicle_weight  model_year  \\\n",
            "0                  170       159.0     3413.433759        2003   \n",
            "1                  130        97.0     3149.664934        2007   \n",
            "2                  170        78.0     3079.038997        2018   \n",
            "3                  220         NaN     2542.392402        2009   \n",
            "4                  210       140.0     3460.870990        2009   \n",
            "\n",
            "   fuel_efficiency_mpg  \n",
            "0            13.231729  \n",
            "1            13.688217  \n",
            "2            14.246341  \n",
            "3            16.912736  \n",
            "4            12.488369  \n"
          ]
        }
      ]
    },
    {
      "cell_type": "code",
      "source": [
        "# Histogram + KDE plot\n",
        "plt.figure(figsize=(8,5))\n",
        "df['fuel_efficiency_mpg'].plot(kind='hist', bins=30, density=True, alpha=0.6)\n",
        "df['fuel_efficiency_mpg'].plot(kind='kde', color='red')\n",
        "plt.title('Distribution of fuel_effifiency_mpg')\n",
        "plt.xlabel('fuel_efficiency_mpg')\n",
        "plt.show()"
      ],
      "metadata": {
        "colab": {
          "base_uri": "https://localhost:8080/",
          "height": 487
        },
        "id": "vnLavNv_YNt4",
        "outputId": "23a5183e-e9ca-4a5b-b3af-f0aba979025f"
      },
      "execution_count": 7,
      "outputs": [
        {
          "output_type": "display_data",
          "data": {
            "text/plain": [
              "<Figure size 800x500 with 1 Axes>"
            ],
            "image/png": "[encoded data removed]"
          },
          "metadata": {}
        }
      ]
    },
    {
      "cell_type": "code",
      "source": [
        "# Skewness value\n",
        "print(\"Skewness:\", df['fuel_efficiency_mpg'].skew())"
      ],
      "metadata": {
        "colab": {
          "base_uri": "https://localhost:8080/"
        },
        "id": "IkNCAI3_aNNV",
        "outputId": "2d7fb0d2-ea7c-41b7-a8fa-e49a4873dab3"
      },
      "execution_count": 8,
      "outputs": [
        {
          "output_type": "stream",
          "name": "stdout",
          "text": [
            "Skewness: -0.012062219273507929\n"
          ]
        }
      ]
    },
    {
      "cell_type": "markdown",
      "source": [
        "A skewness of –0.012 is very close to 0, which means the distribution of fuel_efficiency_mpg is essentially symmetric, with no long tail to the left or right."
      ],
      "metadata": {
        "id": "IXueoJQWacx1"
      }
    },
    {
      "cell_type": "markdown",
      "source": [
        "#Question 1"
      ],
      "metadata": {
        "id": "yfRVaBcaYLJ0"
      }
    },
    {
      "cell_type": "code",
      "source": [
        "print(df_selected.isnull().sum())"
      ],
      "metadata": {
        "colab": {
          "base_uri": "https://localhost:8080/"
        },
        "id": "FcMcbCXcuG4g",
        "outputId": "5c7e3108-c2fc-41ef-e7e3-39b3015fa8b9"
      },
      "execution_count": 9,
      "outputs": [
        {
          "output_type": "stream",
          "name": "stdout",
          "text": [
            "engine_displacement      0\n",
            "horsepower             708\n",
            "vehicle_weight           0\n",
            "model_year               0\n",
            "fuel_efficiency_mpg      0\n",
            "dtype: int64\n"
          ]
        }
      ]
    },
    {
      "cell_type": "markdown",
      "source": [
        "#Question 2"
      ],
      "metadata": {
        "id": "Np_TDhDYuaNz"
      }
    },
    {
      "cell_type": "code",
      "source": [
        "median_hp = df_selected['horsepower'].median()\n",
        "print(\"Median horsepower:\", median_hp)\n"
      ],
      "metadata": {
        "colab": {
          "base_uri": "https://localhost:8080/"
        },
        "id": "Ww_-xRTyubyi",
        "outputId": "49624c77-6e00-44c4-95ee-761bb09a8989"
      },
      "execution_count": 10,
      "outputs": [
        {
          "output_type": "stream",
          "name": "stdout",
          "text": [
            "Median horsepower: 149.0\n"
          ]
        }
      ]
    },
    {
      "cell_type": "code",
      "source": [
        "df_selected = df_selected.sample(frac=1, random_state=42).reset_index(drop=True)"
      ],
      "metadata": {
        "id": "NqOXZZ5du38Z"
      },
      "execution_count": 11,
      "outputs": []
    },
    {
      "cell_type": "code",
      "source": [
        "#Split into train (60%) and temp (40%)\n",
        "train_df, temp_df = train_test_split(\n",
        "    df_selected,\n",
        "    test_size=0.4,   # 40% goes into validation + test\n",
        "    random_state=42\n",
        ")\n",
        "\n",
        "#Split the temp set into validation (20%) and test (20%)\n",
        "val_df, test_df = train_test_split(\n",
        "    temp_df,\n",
        "    test_size=0.5,   # 50% of 40% = 20% of total\n",
        "    random_state=42\n",
        ")\n",
        "\n",
        "#Check the sizes\n",
        "print(\"Train shape:\", train_df.shape)\n",
        "print(\"Validation shape:\", val_df.shape)\n",
        "print(\"Test shape:\", test_df.shape)"
      ],
      "metadata": {
        "colab": {
          "base_uri": "https://localhost:8080/"
        },
        "id": "YOGr_y3lxGll",
        "outputId": "64ad184f-f0fd-4008-f79f-a48b43eb1736"
      },
      "execution_count": 12,
      "outputs": [
        {
          "output_type": "stream",
          "name": "stdout",
          "text": [
            "Train shape: (5822, 5)\n",
            "Validation shape: (1941, 5)\n",
            "Test shape: (1941, 5)\n"
          ]
        }
      ]
    },
    {
      "cell_type": "markdown",
      "source": [
        "#Question 3"
      ],
      "metadata": {
        "id": "y7yjiKU0u11d"
      }
    },
    {
      "cell_type": "code",
      "source": [
        "# --- 1️⃣ Separate features and target ---\n",
        "X_train = train_df.drop('fuel_efficiency_mpg', axis=1)\n",
        "y_train = train_df['fuel_efficiency_mpg']\n",
        "\n",
        "X_val = val_df.drop('fuel_efficiency_mpg', axis=1)\n",
        "y_val = val_df['fuel_efficiency_mpg']\n",
        "\n",
        "# --- 2️⃣ Option A: Fill missing 'horsepower' with 0 ---\n",
        "X_train_zero = X_train.copy()\n",
        "X_val_zero = X_val.copy()\n",
        "\n",
        "X_train_zero['horsepower'] = X_train_zero['horsepower'].fillna(0)\n",
        "X_val_zero['horsepower'] = X_val_zero['horsepower'].fillna(0)\n",
        "\n",
        "# Train model\n",
        "model_zero = LinearRegression()\n",
        "model_zero.fit(X_train_zero, y_train)\n",
        "\n",
        "# Predict and compute RMSE\n",
        "val_pred_zero = model_zero.predict(X_val_zero)\n",
        "rmse_zero = sqrt(mean_squared_error(y_val, val_pred_zero))\n",
        "rmse_zero = round(rmse_zero, 2)\n",
        "print(\"RMSE (fill with 0):\", rmse_zero)\n",
        "\n",
        "# --- 3️⃣ Option B: Fill missing 'horsepower' with mean (computed from training only) ---\n",
        "hp_mean = X_train['horsepower'].mean()\n",
        "\n",
        "X_train_mean = X_train.copy()\n",
        "X_val_mean = X_val.copy()\n",
        "\n",
        "X_train_mean['horsepower'] = X_train_mean['horsepower'].fillna(hp_mean)\n",
        "X_val_mean['horsepower'] = X_val_mean['horsepower'].fillna(hp_mean)\n",
        "\n",
        "# Train model\n",
        "model_mean = LinearRegression()\n",
        "model_mean.fit(X_train_mean, y_train)\n",
        "\n",
        "# Predict and compute RMSE\n",
        "val_pred_mean = model_mean.predict(X_val_mean)\n",
        "rmse_mean = sqrt(mean_squared_error(y_val, val_pred_mean))\n",
        "rmse_mean = round(rmse_mean, 2)\n",
        "print(\"RMSE (fill with mean):\", rmse_mean)\n"
      ],
      "metadata": {
        "colab": {
          "base_uri": "https://localhost:8080/"
        },
        "id": "6UziCiHQxcMI",
        "outputId": "b64b5f5a-44c7-4e4e-8fe1-321ab8fab415"
      },
      "execution_count": 13,
      "outputs": [
        {
          "output_type": "stream",
          "name": "stdout",
          "text": [
            "RMSE (fill with 0): 0.51\n",
            "RMSE (fill with mean): 0.46\n"
          ]
        }
      ]
    },
    {
      "cell_type": "markdown",
      "source": [
        "Since 0.46 < 0.51, the model that fills missing horsepower values with the mean (from the training set) performs better on the validation set. The \"with mean\" option gives better RMSE."
      ],
      "metadata": {
        "id": "rXXUVGR-5dYA"
      }
    },
    {
      "cell_type": "code",
      "source": [
        "# Define r values to test\n",
        "r_values = [0, 0.01, 0.1, 1, 5, 10, 100]\n",
        "\n",
        "# Fill missing horsepower with 0 (as instructed)\n",
        "X_train_r = X_train.copy()\n",
        "X_val_r = X_val.copy()\n",
        "X_train_r['horsepower'] = X_train_r['horsepower'].fillna(0)\n",
        "X_val_r['horsepower'] = X_val_r['horsepower'].fillna(0)\n",
        "\n",
        "rmse_scores = {}\n",
        "\n",
        "for r in r_values:\n",
        "    model = Ridge(alpha=r)\n",
        "    model.fit(X_train_r, y_train)\n",
        "\n",
        "    val_pred = model.predict(X_val_r)\n",
        "    rmse = sqrt(mean_squared_error(y_val, val_pred))\n",
        "    rmse_scores[r] = round(rmse, 2)\n",
        "\n",
        "# Print RMSE for each r\n",
        "for r, score in rmse_scores.items():\n",
        "    print(f\"r = {r}: RMSE = {score}\")\n"
      ],
      "metadata": {
        "colab": {
          "base_uri": "https://localhost:8080/"
        },
        "id": "Ffw647gP5r8y",
        "outputId": "8c617f12-13df-4890-e03d-8542c6bb9c70"
      },
      "execution_count": 14,
      "outputs": [
        {
          "output_type": "stream",
          "name": "stdout",
          "text": [
            "r = 0: RMSE = 0.51\n",
            "r = 0.01: RMSE = 0.51\n",
            "r = 0.1: RMSE = 0.51\n",
            "r = 1: RMSE = 0.51\n",
            "r = 5: RMSE = 0.51\n",
            "r = 10: RMSE = 0.51\n",
            "r = 100: RMSE = 0.51\n"
          ]
        }
      ]
    },
    {
      "cell_type": "markdown",
      "source": [
        "#Question 5"
      ],
      "metadata": {
        "id": "VIncOOcU601u"
      }
    },
    {
      "cell_type": "code",
      "source": [
        "seeds = [0, 1, 2, 3, 4, 5, 6, 7, 8, 9]\n",
        "rmse_scores = []\n",
        "\n",
        "for seed in seeds:\n",
        "    # Shuffle & split (60/20/20)\n",
        "    df_shuffled = df_selected.sample(frac=1, random_state=seed).reset_index(drop=True)\n",
        "    train_df, temp_df = train_test_split(df_shuffled, test_size=0.4, random_state=seed)\n",
        "    val_df, test_df = train_test_split(temp_df, test_size=0.5, random_state=seed)\n",
        "\n",
        "    # Separate features & target\n",
        "    X_train = train_df.drop('fuel_efficiency_mpg', axis=1)\n",
        "    y_train = train_df['fuel_efficiency_mpg']\n",
        "    X_val = val_df.drop('fuel_efficiency_mpg', axis=1)\n",
        "    y_val = val_df['fuel_efficiency_mpg']\n",
        "\n",
        "    # Fill NAs with 0\n",
        "    X_train = X_train.fillna(0)\n",
        "    X_val = X_val.fillna(0)\n",
        "\n",
        "    # Train linear regression (no regularization)\n",
        "    model = LinearRegression()\n",
        "    model.fit(X_train, y_train)\n",
        "\n",
        "    # Evaluate on validation\n",
        "    val_pred = model.predict(X_val)\n",
        "    rmse = sqrt(mean_squared_error(y_val, val_pred))\n",
        "    rmse_scores.append(rmse)\n",
        "\n",
        "# Compute standard deviation of RMSE scores\n",
        "std_rmse = np.std(rmse_scores)\n",
        "std_rmse = round(std_rmse, 3)\n",
        "print(\"Standard deviation of RMSE scores:\", std_rmse)\n"
      ],
      "metadata": {
        "colab": {
          "base_uri": "https://localhost:8080/"
        },
        "id": "LCwQIO1o63VT",
        "outputId": "e9a6617b-9fb1-4301-9190-478f1d2f3f76"
      },
      "execution_count": 15,
      "outputs": [
        {
          "output_type": "stream",
          "name": "stdout",
          "text": [
            "Standard deviation of RMSE scores: 0.008\n"
          ]
        }
      ]
    },
    {
      "cell_type": "markdown",
      "source": [
        "#Question 6"
      ],
      "metadata": {
        "id": "TzKu5At97d5Y"
      }
    },
    {
      "cell_type": "code",
      "source": [
        "#Shuffle & split using seed = 9 (60/20/20)\n",
        "df_shuffled = df_selected.sample(frac=1, random_state=9).reset_index(drop=True)\n",
        "train_df, temp_df = train_test_split(df_shuffled, test_size=0.4, random_state=9)\n",
        "val_df, test_df = train_test_split(temp_df, test_size=0.5, random_state=9)\n",
        "\n",
        "#Combine train + validation\n",
        "train_val_df = pd.concat([train_df, val_df])\n",
        "\n",
        "#Separate features and target\n",
        "X_train_val = train_val_df.drop('fuel_efficiency_mpg', axis=1)\n",
        "y_train_val = train_val_df['fuel_efficiency_mpg']\n",
        "\n",
        "X_test = test_df.drop('fuel_efficiency_mpg', axis=1)\n",
        "y_test = test_df['fuel_efficiency_mpg']\n",
        "\n",
        "#Fill missing values with 0\n",
        "X_train_val = X_train_val.fillna(0)\n",
        "X_test = X_test.fillna(0)\n",
        "\n",
        "#Train Ridge model with r = 0.001\n",
        "model = Ridge(alpha=0.001)\n",
        "model.fit(X_train_val, y_train_val)\n",
        "\n",
        "#Evaluate on test set\n",
        "test_pred = model.predict(X_test)\n",
        "rmse_test = sqrt(mean_squared_error(y_test, test_pred))\n",
        "rmse_test = round(rmse_test, 2)\n",
        "print(\"Test RMSE (r=0.001):\", rmse_test)"
      ],
      "metadata": {
        "id": "CKmgpu8z7f4U",
        "colab": {
          "base_uri": "https://localhost:8080/"
        },
        "outputId": "cd9d22d5-996e-4f3c-d783-a69ef285399a"
      },
      "execution_count": 16,
      "outputs": [
        {
          "output_type": "stream",
          "name": "stdout",
          "text": [
            "Test RMSE (r=0.001): 0.54\n"
          ]
        }
      ]
    }
  ]
}