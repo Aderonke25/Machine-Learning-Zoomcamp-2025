{
  "nbformat": 4,
  "nbformat_minor": 0,
  "metadata": {
    "colab": {
      "provenance": [],
      "authorship_tag": "ABX9TyMud/vHyhgbGijOJsBZMLds",
      "include_colab_link": true
    },
    "kernelspec": {
      "name": "python3",
      "display_name": "Python 3"
    },
    "language_info": {
      "name": "python"
    }
  },
  "cells": [
    {
      "cell_type": "markdown",
      "metadata": {
        "id": "view-in-github",
        "colab_type": "text"
      },
      "source": [
        "<a href=\"https://colab.research.google.com/github/Aderonke25/Machine-Learning-Zoomcamp-2025/blob/main/DataTalksModule4Evaluation.ipynb\" target=\"_parent\"><img src=\"https://colab.research.google.com/assets/colab-badge.svg\" alt=\"Open In Colab\"/></a>"
      ]
    },
    {
      "cell_type": "code",
      "execution_count": 1,
      "metadata": {
        "id": "UGmDbOalLEaS"
      },
      "outputs": [],
      "source": [
        "import numpy as np\n",
        "import pandas as pd\n",
        "import matplotlib.pyplot as plt\n",
        "import seaborn as sns\n",
        "from sklearn.model_selection import train_test_split\n",
        "from sklearn.metrics import roc_auc_score\n",
        "from sklearn.feature_extraction import DictVectorizer\n",
        "from sklearn.linear_model import LogisticRegression\n",
        "from sklearn.metrics import precision_score, recall_score\n",
        "from sklearn.model_selection import KFold"
      ]
    },
    {
      "cell_type": "code",
      "source": [
        "url = \"https://raw.githubusercontent.com/alexeygrigorev/datasets/master/course_lead_scoring.csv\""
      ],
      "metadata": {
        "id": "A1OcloV5Mx8l"
      },
      "execution_count": 2,
      "outputs": []
    },
    {
      "cell_type": "code",
      "source": [
        "df = pd.read_csv(url)\n",
        "\n",
        "df.head()"
      ],
      "metadata": {
        "colab": {
          "base_uri": "https://localhost:8080/",
          "height": 206
        },
        "id": "hKRc0xOCM6Ev",
        "outputId": "773d6289-ffcd-4843-f5ae-e5f83e0a5772"
      },
      "execution_count": 3,
      "outputs": [
        {
          "output_type": "execute_result",
          "data": {
            "text/plain": [
              "    lead_source    industry  number_of_courses_viewed  annual_income  \\\n",
              "0      paid_ads         NaN                         1        79450.0   \n",
              "1  social_media      retail                         1        46992.0   \n",
              "2        events  healthcare                         5        78796.0   \n",
              "3      paid_ads      retail                         2        83843.0   \n",
              "4      referral   education                         3        85012.0   \n",
              "\n",
              "  employment_status       location  interaction_count  lead_score  converted  \n",
              "0        unemployed  south_america                  4        0.94          1  \n",
              "1          employed  south_america                  1        0.80          0  \n",
              "2        unemployed      australia                  3        0.69          1  \n",
              "3               NaN      australia                  1        0.87          0  \n",
              "4     self_employed         europe                  3        0.62          1  "
            ],
            "text/html": [
              "\n",
              "  <div id=\"df-218dcc0b-e3af-443f-bc6c-2ade72e9dc5a\" class=\"colab-df-container\">\n",
              "    <div>\n",
              "<style scoped>\n",
              "    .dataframe tbody tr th:only-of-type {\n",
              "        vertical-align: middle;\n",
              "    }\n",
              "\n",
              "    .dataframe tbody tr th {\n",
              "        vertical-align: top;\n",
              "    }\n",
              "\n",
              "    .dataframe thead th {\n",
              "        text-align: right;\n",
              "    }\n",
              "</style>\n",
              "<table border=\"1\" class=\"dataframe\">\n",
              "  <thead>\n",
              "    <tr style=\"text-align: right;\">\n",
              "      <th></th>\n",
              "      <th>lead_source</th>\n",
              "      <th>industry</th>\n",
              "      <th>number_of_courses_viewed</th>\n",
              "      <th>annual_income</th>\n",
              "      <th>employment_status</th>\n",
              "      <th>location</th>\n",
              "      <th>interaction_count</th>\n",
              "      <th>lead_score</th>\n",
              "      <th>converted</th>\n",
              "    </tr>\n",
              "  </thead>\n",
              "  <tbody>\n",
              "    <tr>\n",
              "      <th>0</th>\n",
              "      <td>paid_ads</td>\n",
              "      <td>NaN</td>\n",
              "      <td>1</td>\n",
              "      <td>79450.0</td>\n",
              "      <td>unemployed</td>\n",
              "      <td>south_america</td>\n",
              "      <td>4</td>\n",
              "      <td>0.94</td>\n",
              "      <td>1</td>\n",
              "    </tr>\n",
              "    <tr>\n",
              "      <th>1</th>\n",
              "      <td>social_media</td>\n",
              "      <td>retail</td>\n",
              "      <td>1</td>\n",
              "      <td>46992.0</td>\n",
              "      <td>employed</td>\n",
              "      <td>south_america</td>\n",
              "      <td>1</td>\n",
              "      <td>0.80</td>\n",
              "      <td>0</td>\n",
              "    </tr>\n",
              "    <tr>\n",
              "      <th>2</th>\n",
              "      <td>events</td>\n",
              "      <td>healthcare</td>\n",
              "      <td>5</td>\n",
              "      <td>78796.0</td>\n",
              "      <td>unemployed</td>\n",
              "      <td>australia</td>\n",
              "      <td>3</td>\n",
              "      <td>0.69</td>\n",
              "      <td>1</td>\n",
              "    </tr>\n",
              "    <tr>\n",
              "      <th>3</th>\n",
              "      <td>paid_ads</td>\n",
              "      <td>retail</td>\n",
              "      <td>2</td>\n",
              "      <td>83843.0</td>\n",
              "      <td>NaN</td>\n",
              "      <td>australia</td>\n",
              "      <td>1</td>\n",
              "      <td>0.87</td>\n",
              "      <td>0</td>\n",
              "    </tr>\n",
              "    <tr>\n",
              "      <th>4</th>\n",
              "      <td>referral</td>\n",
              "      <td>education</td>\n",
              "      <td>3</td>\n",
              "      <td>85012.0</td>\n",
              "      <td>self_employed</td>\n",
              "      <td>europe</td>\n",
              "      <td>3</td>\n",
              "      <td>0.62</td>\n",
              "      <td>1</td>\n",
              "    </tr>\n",
              "  </tbody>\n",
              "</table>\n",
              "</div>\n",
              "    <div class=\"colab-df-buttons\">\n",
              "\n",
              "  <div class=\"colab-df-container\">\n",
              "    <button class=\"colab-df-convert\" onclick=\"convertToInteractive('df-218dcc0b-e3af-443f-bc6c-2ade72e9dc5a')\"\n",
              "            title=\"Convert this dataframe to an interactive table.\"\n",
              "            style=\"display:none;\">\n",
              "\n",
              "  <svg xmlns=\"http://www.w3.org/2000/svg\" height=\"24px\" viewBox=\"0 -960 960 960\">\n",
              "    <path d=\"M120-120v-720h720v720H120Zm60-500h600v-160H180v160Zm220 220h160v-160H400v160Zm0 220h160v-160H400v160ZM180-400h160v-160H180v160Zm440 0h160v-160H620v160ZM180-180h160v-160H180v160Zm440 0h160v-160H620v160Z\"/>\n",
              "  </svg>\n",
              "    </button>\n",
              "\n",
              "  <style>\n",
              "    .colab-df-container {\n",
              "      display:flex;\n",
              "      gap: 12px;\n",
              "    }\n",
              "\n",
              "    .colab-df-convert {\n",
              "      background-color: #E8F0FE;\n",
              "      border: none;\n",
              "      border-radius: 50%;\n",
              "      cursor: pointer;\n",
              "      display: none;\n",
              "      fill: #1967D2;\n",
              "      height: 32px;\n",
              "      padding: 0 0 0 0;\n",
              "      width: 32px;\n",
              "    }\n",
              "\n",
              "    .colab-df-convert:hover {\n",
              "      background-color: #E2EBFA;\n",
              "      box-shadow: 0px 1px 2px rgba(60, 64, 67, 0.3), 0px 1px 3px 1px rgba(60, 64, 67, 0.15);\n",
              "      fill: #174EA6;\n",
              "    }\n",
              "\n",
              "    .colab-df-buttons div {\n",
              "      margin-bottom: 4px;\n",
              "    }\n",
              "\n",
              "    [theme=dark] .colab-df-convert {\n",
              "      background-color: #3B4455;\n",
              "      fill: #D2E3FC;\n",
              "    }\n",
              "\n",
              "    [theme=dark] .colab-df-convert:hover {\n",
              "      background-color: #434B5C;\n",
              "      box-shadow: 0px 1px 3px 1px rgba(0, 0, 0, 0.15);\n",
              "      filter: drop-shadow(0px 1px 2px rgba(0, 0, 0, 0.3));\n",
              "      fill: #FFFFFF;\n",
              "    }\n",
              "  </style>\n",
              "\n",
              "    <script>\n",
              "      const buttonEl =\n",
              "        document.querySelector('#df-218dcc0b-e3af-443f-bc6c-2ade72e9dc5a button.colab-df-convert');\n",
              "      buttonEl.style.display =\n",
              "        google.colab.kernel.accessAllowed ? 'block' : 'none';\n",
              "\n",
              "      async function convertToInteractive(key) {\n",
              "        const element = document.querySelector('#df-218dcc0b-e3af-443f-bc6c-2ade72e9dc5a');\n",
              "        const dataTable =\n",
              "          await google.colab.kernel.invokeFunction('convertToInteractive',\n",
              "                                                    [key], {});\n",
              "        if (!dataTable) return;\n",
              "\n",
              "        const docLinkHtml = 'Like what you see? Visit the ' +\n",
              "          '<a target=\"_blank\" href=https://colab.research.google.com/notebooks/data_table.ipynb>data table notebook</a>'\n",
              "          + ' to learn more about interactive tables.';\n",
              "        element.innerHTML = '';\n",
              "        dataTable['output_type'] = 'display_data';\n",
              "        await google.colab.output.renderOutput(dataTable, element);\n",
              "        const docLink = document.createElement('div');\n",
              "        docLink.innerHTML = docLinkHtml;\n",
              "        element.appendChild(docLink);\n",
              "      }\n",
              "    </script>\n",
              "  </div>\n",
              "\n",
              "\n",
              "    <div id=\"df-6f81d8fe-cbfe-4ded-b75f-9a9486db2d29\">\n",
              "      <button class=\"colab-df-quickchart\" onclick=\"quickchart('df-6f81d8fe-cbfe-4ded-b75f-9a9486db2d29')\"\n",
              "                title=\"Suggest charts\"\n",
              "                style=\"display:none;\">\n",
              "\n",
              "<svg xmlns=\"http://www.w3.org/2000/svg\" height=\"24px\"viewBox=\"0 0 24 24\"\n",
              "     width=\"24px\">\n",
              "    <g>\n",
              "        <path d=\"M19 3H5c-1.1 0-2 .9-2 2v14c0 1.1.9 2 2 2h14c1.1 0 2-.9 2-2V5c0-1.1-.9-2-2-2zM9 17H7v-7h2v7zm4 0h-2V7h2v10zm4 0h-2v-4h2v4z\"/>\n",
              "    </g>\n",
              "</svg>\n",
              "      </button>\n",
              "\n",
              "<style>\n",
              "  .colab-df-quickchart {\n",
              "      --bg-color: #E8F0FE;\n",
              "      --fill-color: #1967D2;\n",
              "      --hover-bg-color: #E2EBFA;\n",
              "      --hover-fill-color: #174EA6;\n",
              "      --disabled-fill-color: #AAA;\n",
              "      --disabled-bg-color: #DDD;\n",
              "  }\n",
              "\n",
              "  [theme=dark] .colab-df-quickchart {\n",
              "      --bg-color: #3B4455;\n",
              "      --fill-color: #D2E3FC;\n",
              "      --hover-bg-color: #434B5C;\n",
              "      --hover-fill-color: #FFFFFF;\n",
              "      --disabled-bg-color: #3B4455;\n",
              "      --disabled-fill-color: #666;\n",
              "  }\n",
              "\n",
              "  .colab-df-quickchart {\n",
              "    background-color: var(--bg-color);\n",
              "    border: none;\n",
              "    border-radius: 50%;\n",
              "    cursor: pointer;\n",
              "    display: none;\n",
              "    fill: var(--fill-color);\n",
              "    height: 32px;\n",
              "    padding: 0;\n",
              "    width: 32px;\n",
              "  }\n",
              "\n",
              "  .colab-df-quickchart:hover {\n",
              "    background-color: var(--hover-bg-color);\n",
              "    box-shadow: 0 1px 2px rgba(60, 64, 67, 0.3), 0 1px 3px 1px rgba(60, 64, 67, 0.15);\n",
              "    fill: var(--button-hover-fill-color);\n",
              "  }\n",
              "\n",
              "  .colab-df-quickchart-complete:disabled,\n",
              "  .colab-df-quickchart-complete:disabled:hover {\n",
              "    background-color: var(--disabled-bg-color);\n",
              "    fill: var(--disabled-fill-color);\n",
              "    box-shadow: none;\n",
              "  }\n",
              "\n",
              "  .colab-df-spinner {\n",
              "    border: 2px solid var(--fill-color);\n",
              "    border-color: transparent;\n",
              "    border-bottom-color: var(--fill-color);\n",
              "    animation:\n",
              "      spin 1s steps(1) infinite;\n",
              "  }\n",
              "\n",
              "  @keyframes spin {\n",
              "    0% {\n",
              "      border-color: transparent;\n",
              "      border-bottom-color: var(--fill-color);\n",
              "      border-left-color: var(--fill-color);\n",
              "    }\n",
              "    20% {\n",
              "      border-color: transparent;\n",
              "      border-left-color: var(--fill-color);\n",
              "      border-top-color: var(--fill-color);\n",
              "    }\n",
              "    30% {\n",
              "      border-color: transparent;\n",
              "      border-left-color: var(--fill-color);\n",
              "      border-top-color: var(--fill-color);\n",
              "      border-right-color: var(--fill-color);\n",
              "    }\n",
              "    40% {\n",
              "      border-color: transparent;\n",
              "      border-right-color: var(--fill-color);\n",
              "      border-top-color: var(--fill-color);\n",
              "    }\n",
              "    60% {\n",
              "      border-color: transparent;\n",
              "      border-right-color: var(--fill-color);\n",
              "    }\n",
              "    80% {\n",
              "      border-color: transparent;\n",
              "      border-right-color: var(--fill-color);\n",
              "      border-bottom-color: var(--fill-color);\n",
              "    }\n",
              "    90% {\n",
              "      border-color: transparent;\n",
              "      border-bottom-color: var(--fill-color);\n",
              "    }\n",
              "  }\n",
              "</style>\n",
              "\n",
              "      <script>\n",
              "        async function quickchart(key) {\n",
              "          const quickchartButtonEl =\n",
              "            document.querySelector('#' + key + ' button');\n",
              "          quickchartButtonEl.disabled = true;  // To prevent multiple clicks.\n",
              "          quickchartButtonEl.classList.add('colab-df-spinner');\n",
              "          try {\n",
              "            const charts = await google.colab.kernel.invokeFunction(\n",
              "                'suggestCharts', [key], {});\n",
              "          } catch (error) {\n",
              "            console.error('Error during call to suggestCharts:', error);\n",
              "          }\n",
              "          quickchartButtonEl.classList.remove('colab-df-spinner');\n",
              "          quickchartButtonEl.classList.add('colab-df-quickchart-complete');\n",
              "        }\n",
              "        (() => {\n",
              "          let quickchartButtonEl =\n",
              "            document.querySelector('#df-6f81d8fe-cbfe-4ded-b75f-9a9486db2d29 button');\n",
              "          quickchartButtonEl.style.display =\n",
              "            google.colab.kernel.accessAllowed ? 'block' : 'none';\n",
              "        })();\n",
              "      </script>\n",
              "    </div>\n",
              "\n",
              "    </div>\n",
              "  </div>\n"
            ],
            "application/vnd.google.colaboratory.intrinsic+json": {
              "type": "dataframe",
              "variable_name": "df",
              "summary": "{\n  \"name\": \"df\",\n  \"rows\": 1462,\n  \"fields\": [\n    {\n      \"column\": \"lead_source\",\n      \"properties\": {\n        \"dtype\": \"category\",\n        \"num_unique_values\": 5,\n        \"samples\": [\n          \"social_media\",\n          \"organic_search\",\n          \"events\"\n        ],\n        \"semantic_type\": \"\",\n        \"description\": \"\"\n      }\n    },\n    {\n      \"column\": \"industry\",\n      \"properties\": {\n        \"dtype\": \"category\",\n        \"num_unique_values\": 7,\n        \"samples\": [\n          \"retail\",\n          \"healthcare\",\n          \"other\"\n        ],\n        \"semantic_type\": \"\",\n        \"description\": \"\"\n      }\n    },\n    {\n      \"column\": \"number_of_courses_viewed\",\n      \"properties\": {\n        \"dtype\": \"number\",\n        \"std\": 1,\n        \"min\": 0,\n        \"max\": 9,\n        \"num_unique_values\": 10,\n        \"samples\": [\n          7,\n          5,\n          4\n        ],\n        \"semantic_type\": \"\",\n        \"description\": \"\"\n      }\n    },\n    {\n      \"column\": \"annual_income\",\n      \"properties\": {\n        \"dtype\": \"number\",\n        \"std\": 15070.140389099402,\n        \"min\": 13929.0,\n        \"max\": 109899.0,\n        \"num_unique_values\": 1267,\n        \"samples\": [\n          35832.0,\n          99435.0,\n          53502.0\n        ],\n        \"semantic_type\": \"\",\n        \"description\": \"\"\n      }\n    },\n    {\n      \"column\": \"employment_status\",\n      \"properties\": {\n        \"dtype\": \"category\",\n        \"num_unique_values\": 4,\n        \"samples\": [\n          \"employed\",\n          \"student\",\n          \"unemployed\"\n        ],\n        \"semantic_type\": \"\",\n        \"description\": \"\"\n      }\n    },\n    {\n      \"column\": \"location\",\n      \"properties\": {\n        \"dtype\": \"category\",\n        \"num_unique_values\": 7,\n        \"samples\": [\n          \"south_america\",\n          \"australia\",\n          \"north_america\"\n        ],\n        \"semantic_type\": \"\",\n        \"description\": \"\"\n      }\n    },\n    {\n      \"column\": \"interaction_count\",\n      \"properties\": {\n        \"dtype\": \"number\",\n        \"std\": 1,\n        \"min\": 0,\n        \"max\": 11,\n        \"num_unique_values\": 12,\n        \"samples\": [\n          10,\n          8,\n          4\n        ],\n        \"semantic_type\": \"\",\n        \"description\": \"\"\n      }\n    },\n    {\n      \"column\": \"lead_score\",\n      \"properties\": {\n        \"dtype\": \"number\",\n        \"std\": 0.28846540429698403,\n        \"min\": 0.0,\n        \"max\": 1.0,\n        \"num_unique_values\": 101,\n        \"samples\": [\n          0.09,\n          0.72,\n          0.58\n        ],\n        \"semantic_type\": \"\",\n        \"description\": \"\"\n      }\n    },\n    {\n      \"column\": \"converted\",\n      \"properties\": {\n        \"dtype\": \"number\",\n        \"std\": 0,\n        \"min\": 0,\n        \"max\": 1,\n        \"num_unique_values\": 2,\n        \"samples\": [\n          0,\n          1\n        ],\n        \"semantic_type\": \"\",\n        \"description\": \"\"\n      }\n    }\n  ]\n}"
            }
          },
          "metadata": {},
          "execution_count": 3
        }
      ]
    },
    {
      "cell_type": "code",
      "source": [
        "# Fill missing values\n",
        "categorical_cols = ['lead_source', 'industry', 'employment_status', 'location']\n",
        "numerical_cols = ['number_of_courses_viewed', 'annual_income', 'interaction_count', 'lead_score', 'converted']\n",
        "\n",
        "df[categorical_cols] = df[categorical_cols].fillna('NA')\n",
        "df[numerical_cols] = df[numerical_cols].fillna(0.0)\n",
        "print(df)"
      ],
      "metadata": {
        "colab": {
          "base_uri": "https://localhost:8080/"
        },
        "id": "E7ANBXMKRTaS",
        "outputId": "b0bebba7-79a6-4e01-e42f-aa143db5e069"
      },
      "execution_count": 4,
      "outputs": [
        {
          "output_type": "stream",
          "name": "stdout",
          "text": [
            "         lead_source       industry  number_of_courses_viewed  annual_income  \\\n",
            "0           paid_ads             NA                         1        79450.0   \n",
            "1       social_media         retail                         1        46992.0   \n",
            "2             events     healthcare                         5        78796.0   \n",
            "3           paid_ads         retail                         2        83843.0   \n",
            "4           referral      education                         3        85012.0   \n",
            "...              ...            ...                       ...            ...   \n",
            "1457        referral  manufacturing                         1            0.0   \n",
            "1458        referral     technology                         3        65259.0   \n",
            "1459        paid_ads     technology                         1        45688.0   \n",
            "1460        referral             NA                         5        71016.0   \n",
            "1461  organic_search        finance                         3        92855.0   \n",
            "\n",
            "     employment_status       location  interaction_count  lead_score  \\\n",
            "0           unemployed  south_america                  4        0.94   \n",
            "1             employed  south_america                  1        0.80   \n",
            "2           unemployed      australia                  3        0.69   \n",
            "3                   NA      australia                  1        0.87   \n",
            "4        self_employed         europe                  3        0.62   \n",
            "...                ...            ...                ...         ...   \n",
            "1457     self_employed  north_america                  4        0.53   \n",
            "1458           student         europe                  2        0.24   \n",
            "1459           student  north_america                  3        0.02   \n",
            "1460     self_employed  north_america                  0        0.25   \n",
            "1461           student  north_america                  3        0.41   \n",
            "\n",
            "      converted  \n",
            "0             1  \n",
            "1             0  \n",
            "2             1  \n",
            "3             0  \n",
            "4             1  \n",
            "...         ...  \n",
            "1457          1  \n",
            "1458          1  \n",
            "1459          1  \n",
            "1460          1  \n",
            "1461          1  \n",
            "\n",
            "[1462 rows x 9 columns]\n"
          ]
        }
      ]
    },
    {
      "cell_type": "code",
      "source": [
        "# Split 60% train, 40% temp\n",
        "train_df, temp_df = train_test_split(df, test_size=0.4, random_state=1)\n",
        "\n",
        "# Split temp into 20% validation and 20% test (each 50% of 40%)\n",
        "val_df, test_df = train_test_split(temp_df, test_size=0.5, random_state=1)\n",
        "\n",
        "# Check the sizes\n",
        "print(\"Train shape:\", train_df.shape)\n",
        "print(\"Validation shape:\", val_df.shape)\n",
        "print(\"Test shape:\", test_df.shape)"
      ],
      "metadata": {
        "colab": {
          "base_uri": "https://localhost:8080/"
        },
        "id": "W3hrp8INRWL1",
        "outputId": "5069a85e-c319-45e6-e7b2-d63bc34d7d3a"
      },
      "execution_count": 5,
      "outputs": [
        {
          "output_type": "stream",
          "name": "stdout",
          "text": [
            "Train shape: (877, 9)\n",
            "Validation shape: (292, 9)\n",
            "Test shape: (293, 9)\n"
          ]
        }
      ]
    },
    {
      "cell_type": "markdown",
      "source": [
        "#Question 1"
      ],
      "metadata": {
        "id": "mLJl1RN8SFZA"
      }
    },
    {
      "cell_type": "code",
      "source": [
        "# Define target and numerical features\n",
        "target = 'converted'\n",
        "numerical_features = ['number_of_courses_viewed', 'annual_income', 'interaction_count', 'lead_score']\n",
        "\n",
        "# STEP 4: Compute AUC for each numerical variable\n",
        "\n",
        "print(\"AUC scores before inversion:\\n\")\n",
        "\n",
        "for col in numerical_features:\n",
        "    # Extract y (target) and prediction (feature)\n",
        "    y_true = train_df[target]\n",
        "    y_pred = train_df[col]\n",
        "\n",
        "    # Compute AUC\n",
        "    auc_value = roc_auc_score(y_true, y_pred)\n",
        "\n",
        "    # Display initial AUC\n",
        "    print(f\"{col}: {auc_value:.3f}\")\n",
        "\n",
        "    # If AUC < 0.5, invert the variable\n",
        "    if auc_value < 0.5:\n",
        "        print(f\" → AUC < 0.5 detected for {col}. Inverting variable...\")\n",
        "        train_df[col] = -train_df[col]\n",
        "        auc_value = roc_auc_score(y_true, train_df[col])\n",
        "        print(f\" → New AUC after inversion: {auc_value:.3f}\")\n",
        "\n",
        "    print(\"-\" * 40)\n",
        "\n",
        "# STEP 5: Display final AUC summary\n",
        "print(\"\\nFinal AUC scores after checking inversion:\\n\")\n",
        "for col in numerical_features:\n",
        "    final_auc = roc_auc_score(train_df[target], train_df[col])\n",
        "    print(f\"{col}: {final_auc:.3f}\")"
      ],
      "metadata": {
        "colab": {
          "base_uri": "https://localhost:8080/"
        },
        "id": "NP_ZAFINSIYR",
        "outputId": "e510d443-aa23-48cf-f7bb-d02a01590fd7"
      },
      "execution_count": 6,
      "outputs": [
        {
          "output_type": "stream",
          "name": "stdout",
          "text": [
            "AUC scores before inversion:\n",
            "\n",
            "number_of_courses_viewed: 0.765\n",
            "----------------------------------------\n",
            "annual_income: 0.545\n",
            "----------------------------------------\n",
            "interaction_count: 0.727\n",
            "----------------------------------------\n",
            "lead_score: 0.611\n",
            "----------------------------------------\n",
            "\n",
            "Final AUC scores after checking inversion:\n",
            "\n",
            "number_of_courses_viewed: 0.765\n",
            "annual_income: 0.545\n",
            "interaction_count: 0.727\n",
            "lead_score: 0.611\n"
          ]
        }
      ]
    },
    {
      "cell_type": "markdown",
      "source": [
        "#Question 2\n"
      ],
      "metadata": {
        "id": "w3gLIp54USJt"
      }
    },
    {
      "cell_type": "code",
      "source": [
        "# Separate target and features\n",
        "y_train = train_df['converted'].values\n",
        "train_features = train_df.drop(columns=['converted'])\n",
        "\n",
        "y_val = val_df['converted'].values\n",
        "val_features = val_df.drop(columns=['converted'])\n",
        "\n",
        "# Convert to dictionary format for DictVectorizer\n",
        "train_dicts = train_features.to_dict(orient='records')\n",
        "val_dicts = val_features.to_dict(orient='records')\n",
        "\n",
        "# One-hot encode categorical variables\n",
        "dv = DictVectorizer(sparse=False)\n",
        "X_train = dv.fit_transform(train_dicts)\n",
        "X_val = dv.transform(val_dicts)\n",
        "\n",
        "# Train logistic regression model\n",
        "model = LogisticRegression(solver='liblinear', C=1.0, max_iter=1000)\n",
        "model.fit(X_train, y_train)\n",
        "\n",
        "# Predict probabilities on validation set\n",
        "y_pred = model.predict_proba(X_val)[:, 1]\n",
        "\n",
        "# Compute validation AUC\n",
        "val_auc = roc_auc_score(y_val, y_pred)\n",
        "\n",
        "print(f\"Validation AUC: {val_auc:.3f}\")"
      ],
      "metadata": {
        "colab": {
          "base_uri": "https://localhost:8080/"
        },
        "id": "6hG3If84UUQ4",
        "outputId": "09aca28a-d00c-46be-8952-a55e2b9de0bc"
      },
      "execution_count": 7,
      "outputs": [
        {
          "output_type": "stream",
          "name": "stdout",
          "text": [
            "Validation AUC: 0.794\n"
          ]
        }
      ]
    },
    {
      "cell_type": "markdown",
      "source": [
        "#Question 3\n"
      ],
      "metadata": {
        "id": "C2jj1rjzcpaZ"
      }
    },
    {
      "cell_type": "code",
      "source": [
        "# Create thresholds from 0.0 to 1.0 (step 0.01)\n",
        "thresholds = np.arange(0.0, 1.01, 0.01)\n",
        "\n",
        "precisions = []\n",
        "recalls = []\n",
        "\n",
        "# Loop through thresholds and compute precision, recall\n",
        "for t in thresholds:\n",
        "    # Convert probabilities to binary predictions based on threshold\n",
        "    y_pred_binary = (y_pred >= t).astype(int)\n",
        "\n",
        "    # Compute precision and recall\n",
        "    p = precision_score(y_val, y_pred_binary, zero_division=0)\n",
        "    r = recall_score(y_val, y_pred_binary, zero_division=0)\n",
        "\n",
        "    precisions.append(p)\n",
        "    recalls.append(r)\n",
        "\n",
        "# --------------------------------------------\n",
        "# Plot Precision and Recall vs Threshold\n",
        "# --------------------------------------------\n",
        "plt.figure(figsize=(8, 5))\n",
        "plt.plot(thresholds, precisions, label='Precision')\n",
        "plt.plot(thresholds, recalls, label='Recall')\n",
        "plt.title('Precision and Recall vs Threshold')\n",
        "plt.xlabel('Threshold')\n",
        "plt.ylabel('Score')\n",
        "plt.legend()\n",
        "plt.grid(True)\n",
        "plt.show()"
      ],
      "metadata": {
        "colab": {
          "base_uri": "https://localhost:8080/",
          "height": 487
        },
        "id": "KVKhdxUzcsGH",
        "outputId": "d0047498-8f69-4c43-cd89-2061c3d3b09f"
      },
      "execution_count": 8,
      "outputs": [
        {
          "output_type": "display_data",
          "data": {
            "text/plain": [
              "<Figure size 800x500 with 1 Axes>"
            ],
            "image/png": "[encoded data removed]"
          },
          "metadata": {}
        }
      ]
    },
    {
      "cell_type": "markdown",
      "source": [
        "#Question 4\n"
      ],
      "metadata": {
        "id": "ZwHOVccd2nP2"
      }
    },
    {
      "cell_type": "code",
      "source": [
        "# Compute F1-score for all thresholds\n",
        "f1_scores = []\n",
        "\n",
        "for p, r in zip(precisions, recalls):\n",
        "    if (p + r) == 0:\n",
        "        f1 = 0\n",
        "    else:\n",
        "        f1 = 2 * (p * r) / (p + r)\n",
        "    f1_scores.append(f1)\n",
        "\n",
        "# Plot F1 vs Threshold\n",
        "plt.figure(figsize=(8, 5))\n",
        "plt.plot(thresholds, f1_scores, color='purple', label='F1 Score')\n",
        "plt.title('F1 Score vs Threshold')\n",
        "plt.xlabel('Threshold')\n",
        "plt.ylabel('F1 Score')\n",
        "plt.legend()\n",
        "plt.grid(True)\n",
        "plt.show()\n",
        "\n",
        "# Find best threshold\n",
        "best_idx = np.argmax(f1_scores)\n",
        "best_threshold = thresholds[best_idx]\n",
        "best_f1 = f1_scores[best_idx]\n",
        "\n",
        "print(f\"Best Threshold: {best_threshold:.3f}\")\n",
        "print(f\"Best F1 Score: {best_f1:.3f}\")"
      ],
      "metadata": {
        "colab": {
          "base_uri": "https://localhost:8080/",
          "height": 522
        },
        "id": "GiDEG1572qgp",
        "outputId": "df502e7f-1c95-4288-dd3f-a3fc5f8ad8c4"
      },
      "execution_count": 9,
      "outputs": [
        {
          "output_type": "display_data",
          "data": {
            "text/plain": [
              "<Figure size 800x500 with 1 Axes>"
            ],
            "image/png": "[encoded data removed]"
          },
          "metadata": {}
        },
        {
          "output_type": "stream",
          "name": "stdout",
          "text": [
            "Best Threshold: 0.470\n",
            "Best F1 Score: 0.848\n"
          ]
        }
      ]
    },
    {
      "cell_type": "markdown",
      "source": [
        "#Question 5"
      ],
      "metadata": {
        "id": "kbR0rgr_5ffT"
      }
    },
    {
      "cell_type": "code",
      "source": [
        "# ✅ Define target and numerical features\n",
        "target = 'converted'\n",
        "numerical_features = ['number_of_courses_viewed', 'annual_income', 'interaction_count', 'lead_score']\n",
        "\n",
        "# ✅ Ensure df_full_train exists (combine train + val if needed)\n",
        "df_full_train = pd.concat([train_df, val_df]).reset_index(drop=True)\n",
        "\n",
        "# ✅ Initialize KFold\n",
        "kf = KFold(n_splits=5, shuffle=True, random_state=1)\n",
        "\n",
        "auc_scores = []\n",
        "\n",
        "# ✅ Iterate over 5 folds\n",
        "for fold, (train_idx, val_idx) in enumerate(kf.split(df_full_train), 1):\n",
        "    # Split train and validation sets\n",
        "    df_train = df_full_train.iloc[train_idx].copy()\n",
        "    df_val = df_full_train.iloc[val_idx].copy()\n",
        "\n",
        "    # -----------------------------\n",
        "    # AUC correction for numeric features\n",
        "    # -----------------------------\n",
        "    for col in numerical_features:\n",
        "        auc_value = roc_auc_score(df_train[target], df_train[col])\n",
        "        if auc_value < 0.5:\n",
        "            df_train[col] = -df_train[col]\n",
        "            df_val[col] = -df_val[col]  # apply same inversion to val set\n",
        "\n",
        "    # -----------------------------\n",
        "    # Prepare data for DictVectorizer\n",
        "    # -----------------------------\n",
        "    y_train = df_train[target].values\n",
        "    y_val = df_val[target].values\n",
        "\n",
        "    train_dicts = df_train.drop(columns=[target]).to_dict(orient='records')\n",
        "    val_dicts = df_val.drop(columns=[target]).to_dict(orient='records')\n",
        "\n",
        "    dv = DictVectorizer(sparse=False)\n",
        "    X_train = dv.fit_transform(train_dicts)\n",
        "    X_val = dv.transform(val_dicts)\n",
        "\n",
        "    # -----------------------------\n",
        "    # Train logistic regression\n",
        "    # -----------------------------\n",
        "    model = LogisticRegression(solver='liblinear', C=1.0, max_iter=1000)\n",
        "    model.fit(X_train, y_train)\n",
        "\n",
        "    # Predict probabilities for validation fold\n",
        "    y_pred = model.predict_proba(X_val)[:, 1]\n",
        "\n",
        "    # Compute AUC\n",
        "    auc = roc_auc_score(y_val, y_pred)\n",
        "    auc_scores.append(auc)\n",
        "\n",
        "    print(f\"Fold {fold}: AUC = {auc:.3f}\")\n",
        "\n",
        "# ✅ Print average AUC across folds\n",
        "print(f\"\\nAverage AUC across 5 folds: {np.mean(auc_scores):.3f}\")"
      ],
      "metadata": {
        "colab": {
          "base_uri": "https://localhost:8080/"
        },
        "id": "YzHIgxjmv-ab",
        "outputId": "122dcc34-0806-4a85-df5f-d6c8bb1524f0"
      },
      "execution_count": 10,
      "outputs": [
        {
          "output_type": "stream",
          "name": "stdout",
          "text": [
            "Fold 1: AUC = 0.807\n",
            "Fold 2: AUC = 0.807\n",
            "Fold 3: AUC = 0.865\n",
            "Fold 4: AUC = 0.833\n",
            "Fold 5: AUC = 0.815\n",
            "\n",
            "Average AUC across 5 folds: 0.825\n"
          ]
        }
      ]
    },
    {
      "cell_type": "code",
      "source": [
        "std=np.std([0.807,0.807,0.865,0.833,0.815])\n"
      ],
      "metadata": {
        "id": "mgx1YNFfyDF2"
      },
      "execution_count": 12,
      "outputs": []
    },
    {
      "cell_type": "code",
      "source": [
        "print(std)"
      ],
      "metadata": {
        "colab": {
          "base_uri": "https://localhost:8080/"
        },
        "id": "_24YUwt8yGT1",
        "outputId": "2192759b-2fae-4e7d-cba8-9257d913c990"
      },
      "execution_count": 13,
      "outputs": [
        {
          "output_type": "stream",
          "name": "stdout",
          "text": [
            "0.02195996357009727\n"
          ]
        }
      ]
    },
    {
      "cell_type": "markdown",
      "source": [
        "#Question 6"
      ],
      "metadata": {
        "id": "9W67IeaUyeB_"
      }
    },
    {
      "cell_type": "code",
      "source": [
        "#Candidate C values\n",
        "C_values = [0.000001, 0.001, 1]\n",
        "\n",
        "#Initialize KFold\n",
        "kf = KFold(n_splits=5, shuffle=True, random_state=1)\n",
        "\n",
        "#Store results\n",
        "results = []\n",
        "\n",
        "for C in C_values:\n",
        "    auc_scores = []\n",
        "\n",
        "    # 5-Fold Cross Validation\n",
        "    for train_idx, val_idx in kf.split(df_full_train):\n",
        "        df_train = df_full_train.iloc[train_idx].copy()\n",
        "        df_val = df_full_train.iloc[val_idx].copy()\n",
        "\n",
        "        # --- AUC inversion for numerical features ---\n",
        "        for col in numerical_features:\n",
        "            auc_value = roc_auc_score(df_train[target], df_train[col])\n",
        "            if auc_value < 0.5:\n",
        "                df_train[col] = -df_train[col]\n",
        "                df_val[col] = -df_val[col]\n",
        "\n",
        "        # --- Prepare data for DictVectorizer ---\n",
        "        y_train = df_train[target].values\n",
        "        y_val = df_val[target].values\n",
        "\n",
        "        train_dicts = df_train.drop(columns=[target]).to_dict(orient='records')\n",
        "        val_dicts = df_val.drop(columns=[target]).to_dict(orient='records')\n",
        "\n",
        "        dv = DictVectorizer(sparse=False)\n",
        "        X_train = dv.fit_transform(train_dicts)\n",
        "        X_val = dv.transform(val_dicts)\n",
        "\n",
        "        # --- Train logistic regression with current C ---\n",
        "        model = LogisticRegression(solver='liblinear', C=C, max_iter=1000)\n",
        "        model.fit(X_train, y_train)\n",
        "\n",
        "        # Predict probabilities and compute AUC\n",
        "        y_pred = model.predict_proba(X_val)[:, 1]\n",
        "        auc = roc_auc_score(y_val, y_pred)\n",
        "        auc_scores.append(auc)\n",
        "\n",
        "    # Compute mean and std of AUC for this C\n",
        "    mean_auc = np.mean(auc_scores)\n",
        "    std_auc = np.std(auc_scores)\n",
        "\n",
        "    results.append((C, round(mean_auc, 3), round(std_auc, 3)))\n",
        "\n",
        "# ✅ Display results\n",
        "print(\"C-value | Mean AUC | Std AUC\")\n",
        "print(\"-----------------------------\")\n",
        "for C, mean_auc, std_auc in results:\n",
        "    print(f\"{C:<8} | {mean_auc:<8} | {std_auc:<8}\")"
      ],
      "metadata": {
        "colab": {
          "base_uri": "https://localhost:8080/"
        },
        "id": "eKo6zLkayhCs",
        "outputId": "305ffa6c-06b2-40d5-c5b8-9e7774b728e7"
      },
      "execution_count": 14,
      "outputs": [
        {
          "output_type": "stream",
          "name": "stdout",
          "text": [
            "C-value | Mean AUC | Std AUC\n",
            "-----------------------------\n",
            "1e-06    | 0.543    | 0.025   \n",
            "0.001    | 0.864    | 0.014   \n",
            "1        | 0.825    | 0.022   \n"
          ]
        }
      ]
    }
  ]
}